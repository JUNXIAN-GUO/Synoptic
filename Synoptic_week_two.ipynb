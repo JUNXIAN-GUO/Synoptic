{
  "nbformat": 4,
  "nbformat_minor": 0,
  "metadata": {
    "colab": {
      "name": "Synoptic week two.ipynb",
      "provenance": [],
      "collapsed_sections": [],
      "authorship_tag": "ABX9TyO1doj2iVyzQwXM4zJ0/msb",
      "include_colab_link": true
    },
    "kernelspec": {
      "name": "python3",
      "display_name": "Python 3"
    },
    "language_info": {
      "name": "python"
    }
  },
  "cells": [
    {
      "cell_type": "markdown",
      "metadata": {
        "id": "view-in-github",
        "colab_type": "text"
      },
      "source": [
        "<a href=\"https://colab.research.google.com/github/JUNXIAN-GUO/Synoptic/blob/main/Synoptic_week_two.ipynb\" target=\"_parent\"><img src=\"https://colab.research.google.com/assets/colab-badge.svg\" alt=\"Open In Colab\"/></a>"
      ]
    },
    {
      "cell_type": "code",
      "execution_count": 1,
      "metadata": {
        "id": "NrXSLuw6OC25"
      },
      "outputs": [],
      "source": [
        "from numpy import *"
      ]
    },
    {
      "cell_type": "markdown",
      "source": [
        "# a"
      ],
      "metadata": {
        "id": "lduf_r5eRa7e"
      }
    },
    {
      "cell_type": "code",
      "source": [
        "E_p=169*10**9\n",
        "E_45=130*10**9\n",
        "L=5000*10**-9\n",
        "w=200*10**-9\n",
        "t=100*10**-9"
      ],
      "metadata": {
        "id": "AQSPwW-yOGOu"
      },
      "execution_count": 2,
      "outputs": []
    },
    {
      "cell_type": "code",
      "source": [
        "def k(E,L,w,t):\n",
        "  return E*w*(t**3)/(4*L**3)"
      ],
      "metadata": {
        "id": "xqWGmqpvO2tv"
      },
      "execution_count": 3,
      "outputs": []
    },
    {
      "cell_type": "code",
      "source": [
        "k_p=k(E_p,L,w,t)\n",
        "k_45=k(E_45,L,w,t)"
      ],
      "metadata": {
        "id": "OyaO2569PRE-"
      },
      "execution_count": 4,
      "outputs": []
    },
    {
      "cell_type": "code",
      "source": [
        "print(f'the spring constant of parallel crystal orientation is {k_p} Nm^-1')\n",
        "print(f'the spring costant of 45 degree crystal orientation is {k_45} Nm^-1')"
      ],
      "metadata": {
        "colab": {
          "base_uri": "https://localhost:8080/"
        },
        "id": "Qmhe1bGzPi1u",
        "outputId": "5867adbf-9e70-43db-e3b8-a0a0f3369d0b"
      },
      "execution_count": 5,
      "outputs": [
        {
          "output_type": "stream",
          "name": "stdout",
          "text": [
            "the spring constant of parallel crystal orientation is 0.0676 Nm^-1\n",
            "the spring costant of 45 degree crystal orientation is 0.052000000000000005 Nm^-1\n"
          ]
        }
      ]
    },
    {
      "cell_type": "markdown",
      "source": [
        "# b"
      ],
      "metadata": {
        "id": "ePf4yp1eRaEj"
      }
    },
    {
      "cell_type": "code",
      "source": [
        "def f(k,m):\n",
        "  return (1/(2*pi))*((k/m)**0.5)"
      ],
      "metadata": {
        "id": "OSzSvk0ISeZJ"
      },
      "execution_count": 6,
      "outputs": []
    },
    {
      "cell_type": "code",
      "source": [
        "V=L*w*t"
      ],
      "metadata": {
        "id": "9u9j-KwMTxKT"
      },
      "execution_count": 7,
      "outputs": []
    },
    {
      "cell_type": "code",
      "source": [
        "M=2330*V"
      ],
      "metadata": {
        "id": "dnnGASohT2Dv"
      },
      "execution_count": 8,
      "outputs": []
    },
    {
      "cell_type": "code",
      "source": [
        "print(f'mass is {M} kg')"
      ],
      "metadata": {
        "colab": {
          "base_uri": "https://localhost:8080/"
        },
        "id": "WnQWlRqqUpAz",
        "outputId": "ad7c2a37-346d-44fe-ce9d-edc1181940c6"
      },
      "execution_count": 9,
      "outputs": [
        {
          "output_type": "stream",
          "name": "stdout",
          "text": [
            "mass is 2.3300000000000004e-16 kg\n"
          ]
        }
      ]
    },
    {
      "cell_type": "code",
      "source": [
        "f_45=f(k_45,M)"
      ],
      "metadata": {
        "id": "L1s0HbGFUBM_"
      },
      "execution_count": 10,
      "outputs": []
    },
    {
      "cell_type": "code",
      "source": [
        "f_p=f(k_p,M)"
      ],
      "metadata": {
        "id": "v3WKhDUxUNgV"
      },
      "execution_count": 11,
      "outputs": []
    },
    {
      "cell_type": "code",
      "source": [
        "print(f'the resonant frequency of the cantilever in parallel crystal orientation is {f_p} Hz')\n",
        "print(f'the resonant frequency of the cantilever in 45 degree crystal orientation is {f_45} Hz')"
      ],
      "metadata": {
        "colab": {
          "base_uri": "https://localhost:8080/"
        },
        "id": "xet54aj9UX7f",
        "outputId": "bfe41e02-d530-4906-f185-50b6402d4755"
      },
      "execution_count": 12,
      "outputs": [
        {
          "output_type": "stream",
          "name": "stdout",
          "text": [
            "the resonant frequency of the cantilever in parallel crystal orientation is 2710912.618577021 Hz\n",
            "the resonant frequency of the cantilever in 45 degree crystal orientation is 2377627.6517635942 Hz\n"
          ]
        }
      ]
    },
    {
      "cell_type": "markdown",
      "source": [
        "# c"
      ],
      "metadata": {
        "id": "PDdUX5twTVPC"
      }
    },
    {
      "cell_type": "code",
      "source": [
        "def delta_m(f,k,m):\n",
        "  return k/(((f+1)**2)*4*pi**2)-m"
      ],
      "metadata": {
        "id": "xqnnFA2xTC31"
      },
      "execution_count": 13,
      "outputs": []
    },
    {
      "cell_type": "code",
      "source": [
        "delta_m_45=delta_m(f_45,k_45,M)\n",
        "delta_m_p=delta_m(f_p,k_p,M)\n",
        "print(f'the minimum mass of absorbed material that can be detected in parallel crystal orientaton is {delta_m_p} kg')\n",
        "print(f'the minimum mass of absorbed material that can bed detected in 45 degree crystal orientation is {delta_m_45} kg')"
      ],
      "metadata": {
        "colab": {
          "base_uri": "https://localhost:8080/"
        },
        "id": "JMuvFx_NRBr0",
        "outputId": "79fedcc0-346d-4dd3-c5e2-e78a0534f6d7"
      },
      "execution_count": 14,
      "outputs": [
        {
          "output_type": "stream",
          "name": "stdout",
          "text": [
            "the minimum mass of absorbed material that can be detected in parallel crystal orientaton is -1.7189773627154666e-22 kg\n",
            "the minimum mass of absorbed material that can bed detected in 45 degree crystal orientation is -1.9599355928026895e-22 kg\n"
          ]
        }
      ]
    },
    {
      "cell_type": "markdown",
      "source": [
        "# d"
      ],
      "metadata": {
        "id": "GKdp-WlLWo3G"
      }
    },
    {
      "cell_type": "code",
      "source": [
        "a=6.022*10**23\n",
        "M=313.3*10**-3      #molecular weight"
      ],
      "metadata": {
        "id": "ZPwM1U0NW9cE"
      },
      "execution_count": 15,
      "outputs": []
    },
    {
      "cell_type": "code",
      "source": [
        "n_45=abs(delta_m_45)/M*a\n",
        "n_p=abs(delta_m_p)/M*a\n",
        "print(f'the number of molecules would need to bind to the cantilever to be detected in parallel crystal orientation is {n_p}')\n",
        "print(f'the number of molecules would need to bind to the cantilever to be detected in 45 degree crystal oriebtation is {n_45}')"
      ],
      "metadata": {
        "colab": {
          "base_uri": "https://localhost:8080/"
        },
        "id": "OfQYzMooYW3A",
        "outputId": "1f3b2a04-6338-43f4-b876-9e47cc093d19"
      },
      "execution_count": 16,
      "outputs": [
        {
          "output_type": "stream",
          "name": "stdout",
          "text": [
            "the number of molecules would need to bind to the cantilever to be detected in parallel crystal orientation is 330.40796930330475\n",
            "the number of molecules would need to bind to the cantilever to be detected in 45 degree crystal oriebtation is 376.7230175505201\n"
          ]
        }
      ]
    },
    {
      "cell_type": "markdown",
      "source": [
        "# e"
      ],
      "metadata": {
        "id": "baY5WnRzZCjW"
      }
    },
    {
      "cell_type": "code",
      "source": [
        "A_heoagan=3*(3)**0.5/2*(1.4*10**-10)**2\n",
        "print(A_heoagan)"
      ],
      "metadata": {
        "colab": {
          "base_uri": "https://localhost:8080/"
        },
        "id": "vN3QEcGpZEBn",
        "outputId": "8715953c-2d08-473f-df98-2692c3da4c54"
      },
      "execution_count": 17,
      "outputs": [
        {
          "output_type": "stream",
          "name": "stdout",
          "text": [
            "5.0922293742524997e-20\n"
          ]
        }
      ]
    },
    {
      "cell_type": "code",
      "source": [
        "A_diazepine=(7/4)*(1.4*10**-10)**2*(1/tan(radians(180/7)))\n",
        "print(A_diazepine)"
      ],
      "metadata": {
        "colab": {
          "base_uri": "https://localhost:8080/"
        },
        "id": "7LKszYsie93d",
        "outputId": "4e81d870-a87b-44bd-cdce-3542a49697bd"
      },
      "execution_count": 18,
      "outputs": [
        {
          "output_type": "stream",
          "name": "stdout",
          "text": [
            "7.122468390243115e-20\n"
          ]
        }
      ]
    },
    {
      "cell_type": "code",
      "source": [
        "A_total=2*A_heoagan+A_diazepine\n",
        "A=L*w\n",
        "n=A/A_total\n",
        "print(f'the number of molecules of rohypnol fit onto the top surface of the cantilever is {n}')"
      ],
      "metadata": {
        "colab": {
          "base_uri": "https://localhost:8080/"
        },
        "id": "mktms2QdfSdq",
        "outputId": "d085ab49-6759-45ec-eeef-80dd0627e109"
      },
      "execution_count": 20,
      "outputs": [
        {
          "output_type": "stream",
          "name": "stdout",
          "text": [
            "the number of molecules of rohypnol fit onto the top surface of the cantilever is 5778033.2232469\n"
          ]
        }
      ]
    }
  ]
}